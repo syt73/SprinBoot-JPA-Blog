{
  "cells": [
    {
      "cell_type": "markdown",
      "metadata": {
        "id": "view-in-github",
        "colab_type": "text"
      },
      "source": [
        "<a href=\"https://colab.research.google.com/github/syt73/SprinBoot-JPA-Blog/blob/master/notebook/ch02-1.ipynb\" target=\"_parent\"><img src=\"https://colab.research.google.com/assets/colab-badge.svg\" alt=\"Open In Colab\"/></a>"
      ]
    },
    {
      "cell_type": "markdown",
      "metadata": {
        "id": "Kz3kN_9ncXzx"
      },
      "source": [
        "# 혼자 공부하는 첫 프로그래밍 with 파이썬(개정판) 예제코드 - Chapter 02-1 문자 데이터"
      ]
    },
    {
      "cell_type": "markdown",
      "metadata": {
        "id": "zcJ7dtPHcXz0"
      },
      "source": [
        "### str01.py"
      ]
    },
    {
      "cell_type": "code",
      "execution_count": 1,
      "metadata": {
        "id": "vRhY6LXBcXz0",
        "outputId": "5aedd76b-a75b-439e-cd27-6913d6a28049",
        "colab": {
          "base_uri": "https://localhost:8080/"
        }
      },
      "outputs": [
        {
          "output_type": "stream",
          "name": "stdout",
          "text": [
            "Hello, World!\n",
            "Hello, World!\n",
            "대한민국을 빛낼 프로그래밍 입문서!\n",
            "혼자 공부하는 첫 프로그래밍!\n",
            "323\n"
          ]
        }
      ],
      "source": [
        "print(\"Hello, World!\")\n",
        "print('Hello, World!')\n",
        "print(\"대한민국을 빛낼 프로그래밍 입문서!\")\n",
        "print(\"혼자 공부하는 첫 프로그래밍!\")\n",
        "print('323')"
      ]
    },
    {
      "cell_type": "markdown",
      "metadata": {
        "id": "-HGTr-73cXz2"
      },
      "source": [
        "### line01.py"
      ]
    },
    {
      "cell_type": "code",
      "execution_count": 2,
      "metadata": {
        "id": "YvMWzV8icXz2",
        "outputId": "9d121873-9f5c-40f2-ec44-0724b41e9f0c",
        "colab": {
          "base_uri": "https://localhost:8080/"
        }
      },
      "outputs": [
        {
          "output_type": "stream",
          "name": "stdout",
          "text": [
            "Hello,\n",
            "World!\n",
            "'하나!'\n",
            "\"둘!\"\n"
          ]
        }
      ],
      "source": [
        "print(\"Hello,\\nWorld!\")\n",
        "print(\"'하나!'\\n\\\"둘!\\\"\")"
      ]
    },
    {
      "cell_type": "markdown",
      "metadata": {
        "id": "hUUdFD-tcXz3"
      },
      "source": [
        "### 확인문제 4"
      ]
    },
    {
      "cell_type": "code",
      "execution_count": 3,
      "metadata": {
        "id": "R9-lM6cscXz4",
        "outputId": "2e9cefb5-3282-4bde-f2ad-7093cb550adf",
        "colab": {
          "base_uri": "https://localhost:8080/"
        }
      },
      "outputs": [
        {
          "output_type": "stream",
          "name": "stdout",
          "text": [
            "Hello, World!\n",
            "Sun is shining.\n"
          ]
        }
      ],
      "source": [
        "print(\"Hello, World!\")\n",
        "print(\"Sun is shining.\")"
      ]
    },
    {
      "cell_type": "markdown",
      "metadata": {
        "id": "bzT847o8cXz4"
      },
      "source": [
        "### 확인문제 5"
      ]
    },
    {
      "cell_type": "code",
      "execution_count": 4,
      "metadata": {
        "id": "aFWdVHbHcXz5",
        "outputId": "ca20024c-26ae-427c-cd37-1ebc0e23f44c",
        "colab": {
          "base_uri": "https://localhost:8080/"
        }
      },
      "outputs": [
        {
          "output_type": "stream",
          "name": "stdout",
          "text": [
            "\"혼공프\"로 시작하는 프로그래밍!\n",
            "'혼공프'로 시작하는 프로그래밍!\n",
            "'혼공프'로 시작하는 프로그래밍!\n",
            "\"혼공프\"로 시작하는 프로그래밍!\n",
            "Sun,\n",
            "Moon,\n",
            "Sky\n"
          ]
        }
      ],
      "source": [
        "print('\"혼공프\"로 시작하는 프로그래밍!')\n",
        "print('\\'혼공프\\'로 시작하는 프로그래밍!')\n",
        "print(\"'혼공프'로 시작하는 프로그래밍!\")\n",
        "print(\"\\\"혼공프\\\"로 시작하는 프로그래밍!\")\n",
        "print(\"Sun,\\nMoon,\\nSky\")"
      ]
    }
  ],
  "metadata": {
    "interpreter": {
      "hash": "da079680f061b1b71279786d92ed74b3ca3fcb31d80397c0ef19f5994c1c6403"
    },
    "kernelspec": {
      "display_name": "Python 3.8.9 64-bit ('.venv': venv)",
      "name": "python3"
    },
    "language_info": {
      "codemirror_mode": {
        "name": "ipython",
        "version": 3
      },
      "file_extension": ".py",
      "mimetype": "text/x-python",
      "name": "python",
      "nbconvert_exporter": "python",
      "pygments_lexer": "ipython3",
      "version": "3.8.9"
    },
    "orig_nbformat": 4,
    "colab": {
      "provenance": [],
      "include_colab_link": true
    }
  },
  "nbformat": 4,
  "nbformat_minor": 0
}