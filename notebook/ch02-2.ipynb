{
  "cells": [
    {
      "cell_type": "markdown",
      "metadata": {
        "id": "view-in-github",
        "colab_type": "text"
      },
      "source": [
        "<a href=\"https://colab.research.google.com/github/syt73/SprinBoot-JPA-Blog/blob/master/notebook/ch02-2.ipynb\" target=\"_parent\"><img src=\"https://colab.research.google.com/assets/colab-badge.svg\" alt=\"Open In Colab\"/></a>"
      ]
    },
    {
      "cell_type": "markdown",
      "metadata": {
        "id": "6NPr8AjFde8E"
      },
      "source": [
        "# 혼자 공부하는 첫 프로그래밍 with 파이썬(개정판) 예제코드 - Chapter 02-2 문자 데이터 처리"
      ]
    },
    {
      "cell_type": "markdown",
      "metadata": {
        "id": "Q3N56uxYde8I"
      },
      "source": [
        "### str02.py"
      ]
    },
    {
      "cell_type": "code",
      "execution_count": 1,
      "metadata": {
        "id": "Y4fLCT-9de8J",
        "outputId": "900b590f-5a64-4246-9a04-7b7f248f20c5",
        "colab": {
          "base_uri": "https://localhost:8080/"
        }
      },
      "outputs": [
        {
          "output_type": "stream",
          "name": "stdout",
          "text": [
            "대한민국을 빛낼 프로그래밍 입문서!\n",
            "혼자 공부하는 첫 프로그래밍!\n",
            "혼공족\n",
            "혼공프로\n",
            "혼공파\n"
          ]
        }
      ],
      "source": [
        "print(\"대한민국을\" + \" \" + \"빛낼\" + \" \" + \"프로그래밍\" + \" \" + \"입문서!\")\n",
        "print(\"혼자\" + \" \" + \"공부하는\" + \" \" + \"첫\" + \" \" + \"프로그래밍!\")\n",
        "print(\"혼공\" + \"족\")\n",
        "print(\"혼공\" + \"프로\")\n",
        "print(\"혼공\" + \"파\")"
      ]
    },
    {
      "cell_type": "markdown",
      "metadata": {
        "id": "XGq_Qym1de8K"
      },
      "source": [
        "### str03.py"
      ]
    },
    {
      "cell_type": "code",
      "execution_count": 2,
      "metadata": {
        "id": "QIy7ROo4de8L",
        "outputId": "1fce51d3-cfb6-493e-ef18-69ec75f021de",
        "colab": {
          "base_uri": "https://localhost:8080/"
        }
      },
      "outputs": [
        {
          "output_type": "stream",
          "name": "stdout",
          "text": [
            "**\n",
            "  *\n",
            "   *\n",
            "    *\n",
            "     **\n"
          ]
        }
      ],
      "source": [
        "print(\"*\" * 2)\n",
        "print(\" \" * 2 + \"*\")\n",
        "print(\" \" * 3 + 1 * \"*\")\n",
        "print(\" \" * 4 + 1 * \"*\")\n",
        "print(\" \" * 5 + 2 * \"*\")"
      ]
    },
    {
      "cell_type": "markdown",
      "metadata": {
        "id": "7PlZHMzfde8L"
      },
      "source": [
        "### len01.py"
      ]
    },
    {
      "cell_type": "code",
      "execution_count": 3,
      "metadata": {
        "id": "eNSXfAP5de8M",
        "outputId": "f0166ef7-c12e-4b09-efbe-36069a776c13",
        "colab": {
          "base_uri": "https://localhost:8080/"
        }
      },
      "outputs": [
        {
          "output_type": "stream",
          "name": "stdout",
          "text": [
            "3\n",
            "12\n",
            "14\n",
            "8\n",
            "4\n"
          ]
        }
      ],
      "source": [
        "print(len(\"AAA\"))\n",
        "print(len(\"Hello, World\"))\n",
        "print(len(\"77791022723607\"))\n",
        "print(len(\"파이썬, 안녕?\"))\n",
        "print(len(\"\\\"아!\\\"\"))"
      ]
    },
    {
      "cell_type": "markdown",
      "metadata": {
        "id": "xn3bS7xMde8M"
      },
      "source": [
        "### sli01.py"
      ]
    },
    {
      "cell_type": "code",
      "execution_count": 4,
      "metadata": {
        "id": "AUBnwNCNde8N",
        "outputId": "be2542a0-3ad1-481e-fdad-7afbbaead517",
        "colab": {
          "base_uri": "https://localhost:8080/"
        }
      },
      "outputs": [
        {
          "output_type": "stream",
          "name": "stdout",
          "text": [
            "KE\n",
            "901\n",
            "901\n",
            "901\n",
            "KE\n",
            "KE901\n"
          ]
        }
      ],
      "source": [
        "print(\"KE901\"[0:2])\n",
        "print(\"KE901\"[2:5])\n",
        "print(\"KE901\"[2:100])\n",
        "print(\"KE901\"[2:])\n",
        "print(\"KE901\"[:2])\n",
        "print(\"KE901\"[:])"
      ]
    },
    {
      "cell_type": "markdown",
      "metadata": {
        "id": "wMH0Hv4xde8N"
      },
      "source": [
        "### ind01.py"
      ]
    },
    {
      "cell_type": "code",
      "execution_count": 5,
      "metadata": {
        "id": "6jFoEcphde8N",
        "outputId": "736d3735-b4bd-4b5f-e607-00116fda7b1e",
        "colab": {
          "base_uri": "https://localhost:8080/"
        }
      },
      "outputs": [
        {
          "output_type": "stream",
          "name": "stdout",
          "text": [
            "K\n",
            "E\n",
            "9\n",
            "0\n",
            "1\n"
          ]
        }
      ],
      "source": [
        "print(\"KE901\"[0])\n",
        "print(\"KE901\"[1])\n",
        "print(\"KE901\"[2])\n",
        "print(\"KE901\"[3])\n",
        "print(\"KE901\"[4])"
      ]
    },
    {
      "cell_type": "markdown",
      "metadata": {
        "id": "zlqk2mTxde8O"
      },
      "source": [
        "### 레벨업 /levelup/levup_02_02_01.py"
      ]
    },
    {
      "cell_type": "code",
      "execution_count": 6,
      "metadata": {
        "id": "B8hQ4QNkde8O",
        "outputId": "4514e6fe-cdc6-400a-ca4a-396e3d3c7c62",
        "colab": {
          "base_uri": "https://localhost:8080/"
        }
      },
      "outputs": [
        {
          "output_type": "stream",
          "name": "stdout",
          "text": [
            "010-1234-5678\n",
            "010\n",
            "1234\n",
            "5678\n",
            "01012345678\n"
          ]
        }
      ],
      "source": [
        "print(\"010-1234-5678\")\n",
        "print(\"010-1234-5678\"[:3])\n",
        "print(\"010-1234-5678\"[4:8])\n",
        "print(\"010-1234-5678\"[9:])\n",
        "print(\"010-1234-5678\"[:3] + \"010-1234-5678\"[4:8] + \"010-1234-5678\"[9:])"
      ]
    },
    {
      "cell_type": "markdown",
      "metadata": {
        "id": "pAiIRa66de8O"
      },
      "source": [
        "### 레벨업 /levelup/levup_02_02_02.py"
      ]
    },
    {
      "cell_type": "code",
      "execution_count": 7,
      "metadata": {
        "id": "-Ib9y149de8O",
        "outputId": "5fcf4bee-e372-4dd6-c97e-264a66cc005b",
        "colab": {
          "base_uri": "https://localhost:8080/"
        }
      },
      "outputs": [
        {
          "output_type": "stream",
          "name": "stdout",
          "text": [
            "01012345678\n",
            "+821012345678\n",
            "+821012345678\n"
          ]
        }
      ],
      "source": [
        "print(\"010-1234-5678\".replace(\"-\", \"\"))\n",
        "print(\"+8210-1234-5678\".replace(\"-\", \"\"))\n",
        "print(\"+82 10-1234-5678\".replace(\"-\", \"\").replace(\" \", \"\"))"
      ]
    },
    {
      "cell_type": "markdown",
      "metadata": {
        "id": "qHIQb_bOde8P"
      },
      "source": [
        "### 레벨업 /levelup/levup_02_02_03.py"
      ]
    },
    {
      "cell_type": "code",
      "execution_count": 8,
      "metadata": {
        "id": "qieCeUvhde8P",
        "outputId": "4eb1db21-7b4e-48ed-f2ad-d519a04ea288",
        "colab": {
          "base_uri": "https://localhost:8080/"
        }
      },
      "outputs": [
        {
          "output_type": "stream",
          "name": "stdout",
          "text": [
            "   323   \n",
            "'   323   '\n",
            "'323'\n"
          ]
        }
      ],
      "source": [
        "print(\"   323   \")\n",
        "print(repr(\"   323   \"))\n",
        "print(repr(\"   323   \".replace(\" \", \"\")))"
      ]
    },
    {
      "cell_type": "markdown",
      "metadata": {
        "id": "NFxz_7sUde8P"
      },
      "source": [
        "### 레벨업 /levelup/levup_02_02_04.py"
      ]
    },
    {
      "cell_type": "code",
      "execution_count": 9,
      "metadata": {
        "id": "mZk0vUZlde8P",
        "outputId": "4de75de0-4d55-4d42-ad47-0bf203f1b12d",
        "colab": {
          "base_uri": "https://localhost:8080/"
        }
      },
      "outputs": [
        {
          "output_type": "stream",
          "name": "stdout",
          "text": [
            "'Sunisshining.'\n",
            "'Sun is shining.'\n",
            "'Sun is shining.   '\n",
            "'   Sun is shining.'\n"
          ]
        }
      ],
      "source": [
        "print(repr(\"   Sun is shining.   \".replace(\" \", \"\")))\n",
        "print(repr(\"   Sun is shining.   \".strip()))\n",
        "print(repr(\"   Sun is shining.   \".lstrip()))\n",
        "print(repr(\"   Sun is shining.   \".rstrip()))"
      ]
    },
    {
      "cell_type": "markdown",
      "metadata": {
        "id": "V5Vk_anlde8Q"
      },
      "source": [
        "### 확인문제 2"
      ]
    },
    {
      "cell_type": "code",
      "execution_count": 10,
      "metadata": {
        "id": "Tp-ag0TTde8Q",
        "outputId": "2a0752c1-7d21-4519-c735-98c0f6507c6e",
        "colab": {
          "base_uri": "https://localhost:8080/"
        }
      },
      "outputs": [
        {
          "output_type": "stream",
          "name": "stdout",
          "text": [
            "3 + 2 = 5\n",
            "==========\n",
            "5분 23초\n"
          ]
        }
      ],
      "source": [
        "print(\"3\" + \" + \" + \"2\" + \" = \" + \"5\")\n",
        "print(\"=\" * 10)\n",
        "print(\"5\" + \"분\" + \" \" + \"23\" + \"초\")"
      ]
    },
    {
      "cell_type": "markdown",
      "metadata": {
        "id": "F_t-Dnlxde8R"
      },
      "source": [
        "### 확인문제 3"
      ]
    },
    {
      "cell_type": "code",
      "execution_count": 11,
      "metadata": {
        "id": "3I76geaIde8R",
        "outputId": "88fad04a-fca4-4bc3-ac73-35579737b768",
        "colab": {
          "base_uri": "https://localhost:8080/"
        }
      },
      "outputs": [
        {
          "output_type": "stream",
          "name": "stdout",
          "text": [
            "3\n",
            "\n",
            "2\n"
          ]
        }
      ],
      "source": [
        "print(\"0123456789\"[3])\n",
        "print(\"0123456789\"[3:3])\n",
        "print(\"0123456789\"[2:3])"
      ]
    },
    {
      "cell_type": "markdown",
      "metadata": {
        "id": "R89bML9-de8R"
      },
      "source": [
        "### 확인문제 4"
      ]
    },
    {
      "cell_type": "code",
      "execution_count": 12,
      "metadata": {
        "id": "i2jaUzDHde8S",
        "outputId": "054aa000-9a2c-4373-9ce6-aea491928c9e",
        "colab": {
          "base_uri": "https://localhost:8080/"
        }
      },
      "outputs": [
        {
          "output_type": "stream",
          "name": "stdout",
          "text": [
            "혼자 공부하는 프로그래밍\n",
            "13\n",
            "혼자\n",
            "공부하는\n",
            "프로그래밍\n"
          ]
        }
      ],
      "source": [
        "print(\"혼자 공부하는 프로그래밍\")\n",
        "print(len(\"혼자 공부하는 프로그래밍\"))\n",
        "print(\"혼자 공부하는 프로그래밍\"[:2])\n",
        "print(\"혼자 공부하는 프로그래밍\"[3:7])\n",
        "print(\"혼자 공부하는 프로그래밍\"[8:])"
      ]
    },
    {
      "cell_type": "markdown",
      "metadata": {
        "id": "A_Jqcavede8S"
      },
      "source": [
        "### 확인문제 5"
      ]
    },
    {
      "cell_type": "code",
      "execution_count": 13,
      "metadata": {
        "id": "kd5stjQRde8S",
        "outputId": "0bd09660-0ed0-44b3-9634-24e29023519c",
        "colab": {
          "base_uri": "https://localhost:8080/"
        }
      },
      "outputs": [
        {
          "output_type": "stream",
          "name": "stdout",
          "text": [
            "C Major Scale\n",
            "-------------\n",
            "CDEFGAB\n"
          ]
        }
      ],
      "source": [
        "print(\"C Major Scale\")\n",
        "print(\"-\" * len(\"C Major Scale\"))\n",
        "print(\n",
        "    \"ABCDEFG\"[2]\n",
        "    + \"ABCDEFG\"[3]\n",
        "    + \"ABCDEFG\"[4]\n",
        "    + \"ABCDEFG\"[5]\n",
        "    + \"ABCDEFG\"[6]\n",
        "    + \"ABCDEFG\"[0]\n",
        "    + \"ABCDEFG\"[1]\n",
        ")"
      ]
    }
  ],
  "metadata": {
    "interpreter": {
      "hash": "da079680f061b1b71279786d92ed74b3ca3fcb31d80397c0ef19f5994c1c6403"
    },
    "kernelspec": {
      "display_name": "Python 3.8.9 64-bit ('.venv': venv)",
      "name": "python3"
    },
    "language_info": {
      "codemirror_mode": {
        "name": "ipython",
        "version": 3
      },
      "file_extension": ".py",
      "mimetype": "text/x-python",
      "name": "python",
      "nbconvert_exporter": "python",
      "pygments_lexer": "ipython3",
      "version": "3.8.9"
    },
    "orig_nbformat": 4,
    "colab": {
      "provenance": [],
      "include_colab_link": true
    }
  },
  "nbformat": 4,
  "nbformat_minor": 0
}